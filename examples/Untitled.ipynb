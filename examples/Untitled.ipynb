{
 "cells": [
  {
   "cell_type": "code",
   "execution_count": 1,
   "metadata": {},
   "outputs": [],
   "source": [
    "import sys\n",
    "sys.path.insert(0,\"../\")\n"
   ]
  },
  {
   "cell_type": "code",
   "execution_count": 2,
   "metadata": {},
   "outputs": [],
   "source": [
    "%matplotlib inline"
   ]
  },
  {
   "cell_type": "code",
   "execution_count": 3,
   "metadata": {},
   "outputs": [
    {
     "name": "stdout",
     "output_type": "stream",
     "text": [
      "9\n",
      "['SK', 'Cdc2_Cdc13', 'Ste9', 'Rum1', 'Slp1', 'Cdc2_Cdc13_active', 'Wee1_Mik1', 'Cdc25', 'PP']\n"
     ]
    }
   ],
   "source": [
    "from neet.boolean.examples import s_pombe\n",
    "print(s_pombe.size)\n",
    "print(s_pombe.names)"
   ]
  },
  {
   "cell_type": "code",
   "execution_count": 4,
   "metadata": {},
   "outputs": [],
   "source": [
    "from neet.boolean import WTNetwork\n",
    "from os.path import join"
   ]
  },
  {
   "cell_type": "code",
   "execution_count": 5,
   "metadata": {},
   "outputs": [],
   "source": [
    "nodes_path = join(\"example_data\", \"c_elegans-nodes.dat\")\n",
    "edges_path = join(\"example_data\", \"c_elegans-edges.dat\")\n",
    "\n",
    "c_elegans = WTNetwork.read(nodes_path, edges_path)\n",
    "c_elegans.metadata.update({\n",
    "    'name': 'c_elegans',\n",
    "    'description': 'The cell cycle network for *C. elegans*.',\n",
    "    'citation': '',\n",
    "})\n"
   ]
  },
  {
   "cell_type": "code",
   "execution_count": 6,
   "metadata": {},
   "outputs": [
    {
     "data": {
      "text/plain": [
       "8"
      ]
     },
     "execution_count": 6,
     "metadata": {},
     "output_type": "execute_result"
    }
   ],
   "source": [
    "c_elegans.size"
   ]
  },
  {
   "cell_type": "code",
   "execution_count": 7,
   "metadata": {},
   "outputs": [
    {
     "data": {
      "text/plain": [
       "['cdk-2/cyclinE',\n",
       " 'cki-1',\n",
       " 'cdc-14/fzy-1',\n",
       " 'fzr-1',\n",
       " 'cdk-1/cyclinB',\n",
       " 'lin-35/efl-1/dpl-1',\n",
       " 'cul-1/lin-23',\n",
       " 'cdc-25.1']"
      ]
     },
     "execution_count": 7,
     "metadata": {},
     "output_type": "execute_result"
    }
   ],
   "source": [
    "c_elegans.names"
   ]
  },
  {
   "cell_type": "code",
   "execution_count": 8,
   "metadata": {},
   "outputs": [
    {
     "data": {
      "text/plain": [
       "[0, 1, 0, 0, 0, 0, 0, 0, 0]"
      ]
     },
     "execution_count": 8,
     "metadata": {},
     "output_type": "execute_result"
    }
   ],
   "source": [
    "s_pombe.update([0,0,0,0,0,0,0,0,0])"
   ]
  },
  {
   "cell_type": "code",
   "execution_count": 9,
   "metadata": {},
   "outputs": [],
   "source": [
    "#from neet.information import Architecture"
   ]
  },
  {
   "cell_type": "code",
   "execution_count": 10,
   "metadata": {},
   "outputs": [],
   "source": [
    "k = 2\n",
    "timesteps = 5\n",
    "#arch = Architecture(s_pombe, k, timesteps)"
   ]
  },
  {
   "cell_type": "code",
   "execution_count": 11,
   "metadata": {},
   "outputs": [],
   "source": [
    "#arch.active_information()"
   ]
  },
  {
   "cell_type": "code",
   "execution_count": 12,
   "metadata": {},
   "outputs": [],
   "source": [
    "#node1index,node2index = 3,5\n",
    "#arch.mutual_information()[node1index,node2index]"
   ]
  },
  {
   "cell_type": "code",
   "execution_count": 13,
   "metadata": {},
   "outputs": [
    {
     "data": {
      "text/plain": [
       "0.9513888888888888"
      ]
     },
     "execution_count": 9,
     "metadata": {},
     "output_type": "execute_result"
    }
   ],
   "source": [
    "s_pombe.average_sensitivity()"
   ]
  },
  {
   "cell_type": "code",
   "execution_count": 10,
   "metadata": {
    "scrolled": true
   },
   "outputs": [
    {
     "name": "stdout",
     "output_type": "stream",
     "text": [
      "2 ** self.size:  512\n",
      "s / upper_bound = normalized average c-sensitivity:  0.013195650077160505\n"
     ]
    },
    {
     "data": {
      "text/plain": [
       "0.9513888888888885"
      ]
     },
     "execution_count": 10,
     "metadata": {},
     "output_type": "execute_result"
    }
   ],
   "source": [
    "s_pombe.average_c_sensitivity(c=1)\n",
    "#Should be the same as the above average_sensitivity() function at c=1"
   ]
  },
  {
   "cell_type": "code",
   "execution_count": 11,
   "metadata": {},
   "outputs": [
    {
     "name": "stdout",
     "output_type": "stream",
     "text": [
      "2 ** self.size:  512\n",
      "s / upper_bound = normalized average c-sensitivity:  0.006506972001763679\n"
     ]
    },
    {
     "data": {
      "text/plain": [
       "1.6423611111111136"
      ]
     },
     "execution_count": 11,
     "metadata": {},
     "output_type": "execute_result"
    }
   ],
   "source": [
    "s_pombe.average_c_sensitivity(c=2)"
   ]
  },
  {
   "cell_type": "code",
   "execution_count": 12,
   "metadata": {},
   "outputs": [
    {
     "name": "stdout",
     "output_type": "stream",
     "text": [
      "2 ** self.size:  512\n",
      "s / upper_bound = normalized average c-sensitivity:  0.004254825483434113\n"
     ]
    },
    {
     "data": {
      "text/plain": [
       "2.6850198412698436"
      ]
     },
     "execution_count": 12,
     "metadata": {},
     "output_type": "execute_result"
    }
   ],
   "source": [
    "s_pombe.average_c_sensitivity(c=4)"
   ]
  },
  {
   "cell_type": "code",
   "execution_count": 13,
   "metadata": {},
   "outputs": [
    {
     "name": "stdout",
     "output_type": "stream",
     "text": [
      "2 ** self.size:  512\n",
      "s / upper_bound = normalized average c-sensitivity:  0.0\n"
     ]
    },
    {
     "data": {
      "text/plain": [
       "0.0"
      ]
     },
     "execution_count": 13,
     "metadata": {},
     "output_type": "execute_result"
    }
   ],
   "source": [
    "s_pombe.average_c_sensitivity(c=0)\n",
    "#Should equal zero for c=0"
   ]
  },
  {
   "cell_type": "code",
   "execution_count": 14,
   "metadata": {},
   "outputs": [
    {
     "name": "stdout",
     "output_type": "stream",
     "text": [
      "2 ** self.size:  512\n",
      "s / upper_bound = normalized average c-sensitivity:  0.4997829861111111\n"
     ]
    },
    {
     "data": {
      "text/plain": [
       "4.498046875"
      ]
     },
     "execution_count": 18,
     "metadata": {},
     "output_type": "execute_result"
    }
   ],
   "source": [
    "s_pombe.Average_c_sensitivity(c=8)"
   ]
  },
  {
   "cell_type": "code",
   "execution_count": 19,
   "metadata": {},
   "outputs": [],
   "source": [
    "#s_pombe.sensitivity([0, 1, 0, 0, 0, 0, 0, 1, 0])"
   ]
  },
  {
   "cell_type": "code",
   "execution_count": 20,
   "metadata": {
    "scrolled": true
   },
   "outputs": [
    {
     "name": "stdout",
     "output_type": "stream",
     "text": [
      "2 ** self.size:  512\n",
      "s / upper_bound = normalized average c-sensitivity:  0.0\n",
      "2 ** self.size:  512\n",
      "s / upper_bound = normalized average c-sensitivity:  0.013195650077160505\n",
      "2 ** self.size:  512\n",
      "s / upper_bound = normalized average c-sensitivity:  0.006506972001763679\n",
      "2 ** self.size:  512\n",
      "s / upper_bound = normalized average c-sensitivity:  0.004350750174201628\n",
      "2 ** self.size:  512\n",
      "s / upper_bound = normalized average c-sensitivity:  0.004254825483434113\n",
      "2 ** self.size:  512\n",
      "s / upper_bound = normalized average c-sensitivity:  0.006227308269951496\n",
      "2 ** self.size:  512\n",
      "s / upper_bound = normalized average c-sensitivity:  0.01421828497023811\n",
      "2 ** self.size:  512\n",
      "s / upper_bound = normalized average c-sensitivity:  0.055933069299768476\n",
      "[0.0, 0.9500868055555564, 1.639756944444447, 2.192778087797621, 2.680540054563491, 3.138563368055554, 3.5830078125000036, 4.02718098958333]\n"
     ]
    },
    {
     "data": {
      "text/plain": [
       "<module 'matplotlib.pyplot' from 'c:\\\\users\\\\nomad\\\\appdata\\\\local\\\\programs\\\\python\\\\python37\\\\lib\\\\site-packages\\\\matplotlib\\\\pyplot.py'>"
      ]
     },
     "execution_count": 20,
     "metadata": {},
     "output_type": "execute_result"
    },
    {
     "data": {
      "image/png": "[encoded data removed]",
      "text/plain": [
       "<Figure size 432x288 with 1 Axes>"
      ]
     },
     "metadata": {
      "needs_background": "light"
     },
     "output_type": "display_data"
    }
   ],
   "source": [
    "s_pombe.derrida_plot(max_c = 8)\n"
   ]
  },
  {
   "cell_type": "code",
   "execution_count": null,
   "metadata": {},
   "outputs": [],
   "source": []
  }
 ],
 "metadata": {
  "kernelspec": {
   "display_name": "Python 3",
   "language": "python",
   "name": "python3"
  },
  "language_info": {
   "codemirror_mode": {
    "name": "ipython",
    "version": 3
   },
   "file_extension": ".py",
   "mimetype": "text/x-python",
   "name": "python",
   "nbconvert_exporter": "python",
   "pygments_lexer": "ipython3",
   "version": "3.7.3"
  }
 },
 "nbformat": 4,
 "nbformat_minor": 2
}
